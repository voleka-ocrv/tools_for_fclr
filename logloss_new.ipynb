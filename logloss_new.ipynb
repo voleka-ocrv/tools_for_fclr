{
 "cells": [
  {
   "cell_type": "code",
   "execution_count": 1,
   "metadata": {},
   "outputs": [],
   "source": [
    "import pandas as pd\n",
    "from os import listdir\n",
    "from os.path import isfile, join\n",
    "import numpy as np"
   ]
  },
  {
   "cell_type": "markdown",
   "metadata": {},
   "source": [
    "# Подготовка валидационной выборки (удаление ev_type=2 (skip))"
   ]
  },
  {
   "cell_type": "markdown",
   "metadata": {},
   "source": [
    "Запустила обучение на новом бинарнике, результаты предыдущего запуска перенесла в ```~/TRG-78708/new_hpr_online_stand_info/installs/stand```"
   ]
  },
  {
   "cell_type": "markdown",
   "metadata": {},
   "source": [
    "## Валидационные файлы"
   ]
  },
  {
   "cell_type": "code",
   "execution_count": 5,
   "metadata": {},
   "outputs": [],
   "source": [
    "valid_path = '/home/eka.volkova/TRG-78708/orig_data_bin/installs/csv/'"
   ]
  },
  {
   "cell_type": "code",
   "execution_count": 6,
   "metadata": {},
   "outputs": [],
   "source": [
    "files = [\n",
    "    \"install_20220613000000.csv\",\n",
    "    \"install_20220613042000.csv\",\n",
    "    \"install_20220613080500.csv\",\n",
    "    \"install_20220613120000.csv\",\n",
    "    \"install_20220613155500.csv\",\n",
    "    \"install_20220613200000.csv\",\n",
    "    \"install_20220614000500.csv\",\n",
    "    \"install_20220614040000.csv\",\n",
    "    \"install_20220614080000.csv\",\n",
    "    \"install_20220614115500.csv\",\n",
    "    \"install_20220614155500.csv\",\n",
    "    \"install_20220614200000.csv\",\n",
    "    \"install_20220615000000.csv\",\n",
    "    \"install_20220615035500.csv\",\n",
    "    \"install_20220615080000.csv\"]"
   ]
  },
  {
   "cell_type": "code",
   "execution_count": 7,
   "metadata": {},
   "outputs": [
    {
     "name": "stderr",
     "output_type": "stream",
     "text": [
      "/usr/local/trgml/dev/3.7/lib/python3.7/site-packages/IPython/core/interactiveshell.py:3417: DtypeWarning: Columns (75) have mixed types.Specify dtype option on import or set low_memory=False.\n",
      "  exec(code_obj, self.user_global_ns, self.user_ns)\n",
      "/usr/local/trgml/dev/3.7/lib/python3.7/site-packages/IPython/core/interactiveshell.py:3417: DtypeWarning: Columns (63,75) have mixed types.Specify dtype option on import or set low_memory=False.\n",
      "  exec(code_obj, self.user_global_ns, self.user_ns)\n",
      "/usr/local/trgml/dev/3.7/lib/python3.7/site-packages/IPython/core/interactiveshell.py:3417: DtypeWarning: Columns (63) have mixed types.Specify dtype option on import or set low_memory=False.\n",
      "  exec(code_obj, self.user_global_ns, self.user_ns)\n"
     ]
    }
   ],
   "source": [
    "n = 0\n",
    "valid_file = pd.DataFrame({'cr_model': []})\n",
    "for file in files:\n",
    "    df = pd.read_csv(f'{valid_path}/{file}', sep=';')\n",
    "    df_shape = df.shape[0]\n",
    "    valid_file = pd.concat([valid_file, df], ignore_index=True)\n",
    "    n += df_shape"
   ]
  },
  {
   "cell_type": "code",
   "execution_count": 8,
   "metadata": {},
   "outputs": [
    {
     "data": {
      "text/plain": [
       "(5190825, 127)"
      ]
     },
     "execution_count": 8,
     "metadata": {},
     "output_type": "execute_result"
    }
   ],
   "source": [
    "valid_file.shape"
   ]
  },
  {
   "cell_type": "markdown",
   "metadata": {},
   "source": [
    "## Удаляем строки с ev_type=2 и к полученной валидационной выборке присоединяем оценки из нового стенда"
   ]
  },
  {
   "cell_type": "code",
   "execution_count": 15,
   "metadata": {},
   "outputs": [],
   "source": [
    "valid_estim_old = pd.read_csv('~/TRG-78708/hpr_online_stand_info/installs/stand/prod_installs(lr)', sep=';')\n",
    "\n",
    "valid_estim = valid_file[['priced', 'sex']].join(valid_estim_old)\n",
    "\n",
    "valid_estim = valid_estim[~(valid_estim['ev_type']==2)].reset_index(drop=True)\n",
    "\n",
    "valid_estim.drop(columns=['pr', 'ev_type'], inplace=True)\n",
    "\n",
    "valid_estim_new = pd.read_csv('~/TRG-78708/new_hpr_online_stand_info/installs/stand/prod_installs(lr)', sep=';')\n",
    "\n",
    "valid_estim = valid_estim.join(valid_estim_new)\n",
    "\n",
    "valid_estim.shape"
   ]
  },
  {
   "cell_type": "code",
   "execution_count": 16,
   "metadata": {},
   "outputs": [
    {
     "data": {
      "text/plain": [
       "0    4869160\n",
       "1     321647\n",
       "Name: ev_type, dtype: int64"
      ]
     },
     "execution_count": 16,
     "metadata": {},
     "output_type": "execute_result"
    }
   ],
   "source": [
    "valid_estim['ev_type'].value_counts()"
   ]
  },
  {
   "cell_type": "markdown",
   "metadata": {},
   "source": [
    "---\n",
    "# Расчет суммарного logloss в разрезе adequacy_keys ```'priced', 'sex'```"
   ]
  },
  {
   "cell_type": "markdown",
   "metadata": {},
   "source": [
    "## ```adequacy/prod.csv```\n",
    "- На версии нового стенда, в которой ЕСТЬ разбиения по ```range``` "
   ]
  },
  {
   "cell_type": "code",
   "execution_count": 17,
   "metadata": {},
   "outputs": [],
   "source": [
    "adequacy_prod = pd.read_csv('~/TRG-78708/new_hpr_online_stand_info/installs/stand/prod.csv', sep=';')"
   ]
  },
  {
   "cell_type": "code",
   "execution_count": 2,
   "metadata": {},
   "outputs": [],
   "source": [
    "adequacy_prod = pd.read_csv('~/TRG-78708/new_hpr_online_stand_info/installs/stand/prod.csv', sep=';')"
   ]
  },
  {
   "cell_type": "code",
   "execution_count": 19,
   "metadata": {},
   "outputs": [],
   "source": [
    "adequacy_prod = adequacy_prod.groupby(['priced', 'sex'])[['negative', 'positive', 'logloss']].sum()"
   ]
  },
  {
   "cell_type": "code",
   "execution_count": 20,
   "metadata": {},
   "outputs": [],
   "source": [
    "adequacy_prod.rename(columns={'negative': 'Clicks_all', 'positive': 'Installs', 'logloss': 'Logloss'}, inplace=True)"
   ]
  },
  {
   "cell_type": "code",
   "execution_count": 3,
   "metadata": {},
   "outputs": [
    {
     "data": {
      "text/html": [
       "<div>\n",
       "<style scoped>\n",
       "    .dataframe tbody tr th:only-of-type {\n",
       "        vertical-align: middle;\n",
       "    }\n",
       "\n",
       "    .dataframe tbody tr th {\n",
       "        vertical-align: top;\n",
       "    }\n",
       "\n",
       "    .dataframe thead th {\n",
       "        text-align: right;\n",
       "    }\n",
       "</style>\n",
       "<table border=\"1\" class=\"dataframe\">\n",
       "  <thead>\n",
       "    <tr style=\"text-align: right;\">\n",
       "      <th></th>\n",
       "      <th>priced</th>\n",
       "      <th>sex</th>\n",
       "      <th>range</th>\n",
       "      <th>suite</th>\n",
       "      <th>negative</th>\n",
       "      <th>positive</th>\n",
       "      <th>e_positive</th>\n",
       "      <th>v_positive</th>\n",
       "      <th>logloss</th>\n",
       "    </tr>\n",
       "  </thead>\n",
       "  <tbody>\n",
       "    <tr>\n",
       "      <th>0</th>\n",
       "      <td>oCPM_inapp</td>\n",
       "      <td>2</td>\n",
       "      <td>0.0001:0.0005</td>\n",
       "      <td>prod</td>\n",
       "      <td>1</td>\n",
       "      <td>0</td>\n",
       "      <td>0.000469</td>\n",
       "      <td>0.000469</td>\n",
       "      <td>0.000469</td>\n",
       "    </tr>\n",
       "    <tr>\n",
       "      <th>1</th>\n",
       "      <td>CPC</td>\n",
       "      <td>0</td>\n",
       "      <td>0.0500:0.1000</td>\n",
       "      <td>prod</td>\n",
       "      <td>1</td>\n",
       "      <td>0</td>\n",
       "      <td>0.053077</td>\n",
       "      <td>0.050260</td>\n",
       "      <td>0.054538</td>\n",
       "    </tr>\n",
       "    <tr>\n",
       "      <th>2</th>\n",
       "      <td>oCPM_inapp</td>\n",
       "      <td>2</td>\n",
       "      <td>0.5000:1.0000</td>\n",
       "      <td>prod</td>\n",
       "      <td>2</td>\n",
       "      <td>1</td>\n",
       "      <td>1.060344</td>\n",
       "      <td>0.496897</td>\n",
       "      <td>1.494289</td>\n",
       "    </tr>\n",
       "    <tr>\n",
       "      <th>3</th>\n",
       "      <td>CPC</td>\n",
       "      <td>0</td>\n",
       "      <td>0.0001:0.0005</td>\n",
       "      <td>prod</td>\n",
       "      <td>1</td>\n",
       "      <td>0</td>\n",
       "      <td>0.000119</td>\n",
       "      <td>0.000119</td>\n",
       "      <td>0.000119</td>\n",
       "    </tr>\n",
       "    <tr>\n",
       "      <th>4</th>\n",
       "      <td>oCPM_inapp</td>\n",
       "      <td>2</td>\n",
       "      <td>0.0005:0.0010</td>\n",
       "      <td>prod</td>\n",
       "      <td>3</td>\n",
       "      <td>0</td>\n",
       "      <td>0.002297</td>\n",
       "      <td>0.002295</td>\n",
       "      <td>0.002298</td>\n",
       "    </tr>\n",
       "    <tr>\n",
       "      <th>...</th>\n",
       "      <td>...</td>\n",
       "      <td>...</td>\n",
       "      <td>...</td>\n",
       "      <td>...</td>\n",
       "      <td>...</td>\n",
       "      <td>...</td>\n",
       "      <td>...</td>\n",
       "      <td>...</td>\n",
       "      <td>...</td>\n",
       "    </tr>\n",
       "    <tr>\n",
       "      <th>116</th>\n",
       "      <td>CPC</td>\n",
       "      <td>1</td>\n",
       "      <td>0.0001:0.0005</td>\n",
       "      <td>prod</td>\n",
       "      <td>937</td>\n",
       "      <td>0</td>\n",
       "      <td>0.285109</td>\n",
       "      <td>0.285011</td>\n",
       "      <td>0.285158</td>\n",
       "    </tr>\n",
       "    <tr>\n",
       "      <th>117</th>\n",
       "      <td>CPM</td>\n",
       "      <td>2</td>\n",
       "      <td>0.1000:0.5000</td>\n",
       "      <td>prod</td>\n",
       "      <td>163</td>\n",
       "      <td>25</td>\n",
       "      <td>27.578028</td>\n",
       "      <td>22.070889</td>\n",
       "      <td>70.013967</td>\n",
       "    </tr>\n",
       "    <tr>\n",
       "      <th>118</th>\n",
       "      <td>CPI</td>\n",
       "      <td>2</td>\n",
       "      <td>0.0010:0.0050</td>\n",
       "      <td>prod</td>\n",
       "      <td>12238</td>\n",
       "      <td>49</td>\n",
       "      <td>39.626500</td>\n",
       "      <td>39.482798</td>\n",
       "      <td>318.230211</td>\n",
       "    </tr>\n",
       "    <tr>\n",
       "      <th>119</th>\n",
       "      <td>CPC</td>\n",
       "      <td>1</td>\n",
       "      <td>0.0500:0.1000</td>\n",
       "      <td>prod</td>\n",
       "      <td>945</td>\n",
       "      <td>37</td>\n",
       "      <td>63.288868</td>\n",
       "      <td>58.884320</td>\n",
       "      <td>161.746823</td>\n",
       "    </tr>\n",
       "    <tr>\n",
       "      <th>120</th>\n",
       "      <td>CPI</td>\n",
       "      <td>1</td>\n",
       "      <td>0.5000:1.0000</td>\n",
       "      <td>prod</td>\n",
       "      <td>2074</td>\n",
       "      <td>971</td>\n",
       "      <td>1261.200270</td>\n",
       "      <td>479.307776</td>\n",
       "      <td>1487.399187</td>\n",
       "    </tr>\n",
       "  </tbody>\n",
       "</table>\n",
       "<p>121 rows × 9 columns</p>\n",
       "</div>"
      ],
      "text/plain": [
       "         priced  sex          range suite  negative  positive   e_positive  \\\n",
       "0    oCPM_inapp    2  0.0001:0.0005  prod         1         0     0.000469   \n",
       "1           CPC    0  0.0500:0.1000  prod         1         0     0.053077   \n",
       "2    oCPM_inapp    2  0.5000:1.0000  prod         2         1     1.060344   \n",
       "3           CPC    0  0.0001:0.0005  prod         1         0     0.000119   \n",
       "4    oCPM_inapp    2  0.0005:0.0010  prod         3         0     0.002297   \n",
       "..          ...  ...            ...   ...       ...       ...          ...   \n",
       "116         CPC    1  0.0001:0.0005  prod       937         0     0.285109   \n",
       "117         CPM    2  0.1000:0.5000  prod       163        25    27.578028   \n",
       "118         CPI    2  0.0010:0.0050  prod     12238        49    39.626500   \n",
       "119         CPC    1  0.0500:0.1000  prod       945        37    63.288868   \n",
       "120         CPI    1  0.5000:1.0000  prod      2074       971  1261.200270   \n",
       "\n",
       "     v_positive      logloss  \n",
       "0      0.000469     0.000469  \n",
       "1      0.050260     0.054538  \n",
       "2      0.496897     1.494289  \n",
       "3      0.000119     0.000119  \n",
       "4      0.002295     0.002298  \n",
       "..          ...          ...  \n",
       "116    0.285011     0.285158  \n",
       "117   22.070889    70.013967  \n",
       "118   39.482798   318.230211  \n",
       "119   58.884320   161.746823  \n",
       "120  479.307776  1487.399187  \n",
       "\n",
       "[121 rows x 9 columns]"
      ]
     },
     "execution_count": 3,
     "metadata": {},
     "output_type": "execute_result"
    }
   ],
   "source": [
    "adequacy_prod"
   ]
  },
  {
   "cell_type": "code",
   "execution_count": 110,
   "metadata": {},
   "outputs": [
    {
     "data": {
      "text/html": [
       "<div>\n",
       "<style scoped>\n",
       "    .dataframe tbody tr th:only-of-type {\n",
       "        vertical-align: middle;\n",
       "    }\n",
       "\n",
       "    .dataframe tbody tr th {\n",
       "        vertical-align: top;\n",
       "    }\n",
       "\n",
       "    .dataframe thead th {\n",
       "        text-align: right;\n",
       "    }\n",
       "</style>\n",
       "<table border=\"1\" class=\"dataframe\">\n",
       "  <thead>\n",
       "    <tr style=\"text-align: right;\">\n",
       "      <th></th>\n",
       "      <th></th>\n",
       "      <th>Clicks_all</th>\n",
       "      <th>Installs</th>\n",
       "      <th>Logloss</th>\n",
       "    </tr>\n",
       "    <tr>\n",
       "      <th>priced</th>\n",
       "      <th>sex</th>\n",
       "      <th></th>\n",
       "      <th></th>\n",
       "      <th></th>\n",
       "    </tr>\n",
       "  </thead>\n",
       "  <tbody>\n",
       "    <tr>\n",
       "      <th rowspan=\"3\" valign=\"top\">CPC</th>\n",
       "      <th>0</th>\n",
       "      <td>131</td>\n",
       "      <td>2</td>\n",
       "      <td>10.664170</td>\n",
       "    </tr>\n",
       "    <tr>\n",
       "      <th>1</th>\n",
       "      <td>29147</td>\n",
       "      <td>268</td>\n",
       "      <td>1398.594988</td>\n",
       "    </tr>\n",
       "    <tr>\n",
       "      <th>2</th>\n",
       "      <td>51848</td>\n",
       "      <td>515</td>\n",
       "      <td>2633.750102</td>\n",
       "    </tr>\n",
       "    <tr>\n",
       "      <th rowspan=\"3\" valign=\"top\">CPI</th>\n",
       "      <th>0</th>\n",
       "      <td>116052</td>\n",
       "      <td>4454</td>\n",
       "      <td>15395.449546</td>\n",
       "    </tr>\n",
       "    <tr>\n",
       "      <th>1</th>\n",
       "      <td>142633</td>\n",
       "      <td>7427</td>\n",
       "      <td>23859.434629</td>\n",
       "    </tr>\n",
       "    <tr>\n",
       "      <th>2</th>\n",
       "      <td>112222</td>\n",
       "      <td>4893</td>\n",
       "      <td>15964.595294</td>\n",
       "    </tr>\n",
       "    <tr>\n",
       "      <th rowspan=\"3\" valign=\"top\">CPM</th>\n",
       "      <th>0</th>\n",
       "      <td>2585</td>\n",
       "      <td>8</td>\n",
       "      <td>57.482797</td>\n",
       "    </tr>\n",
       "    <tr>\n",
       "      <th>1</th>\n",
       "      <td>28915</td>\n",
       "      <td>154</td>\n",
       "      <td>874.866106</td>\n",
       "    </tr>\n",
       "    <tr>\n",
       "      <th>2</th>\n",
       "      <td>24305</td>\n",
       "      <td>154</td>\n",
       "      <td>772.391451</td>\n",
       "    </tr>\n",
       "    <tr>\n",
       "      <th rowspan=\"3\" valign=\"top\">oCPM</th>\n",
       "      <th>0</th>\n",
       "      <td>353222</td>\n",
       "      <td>5271</td>\n",
       "      <td>20322.678702</td>\n",
       "    </tr>\n",
       "    <tr>\n",
       "      <th>1</th>\n",
       "      <td>2007997</td>\n",
       "      <td>149989</td>\n",
       "      <td>436324.803001</td>\n",
       "    </tr>\n",
       "    <tr>\n",
       "      <th>2</th>\n",
       "      <td>2318563</td>\n",
       "      <td>148461</td>\n",
       "      <td>453714.337538</td>\n",
       "    </tr>\n",
       "    <tr>\n",
       "      <th rowspan=\"3\" valign=\"top\">oCPM_inapp</th>\n",
       "      <th>0</th>\n",
       "      <td>1406</td>\n",
       "      <td>19</td>\n",
       "      <td>76.187666</td>\n",
       "    </tr>\n",
       "    <tr>\n",
       "      <th>1</th>\n",
       "      <td>841</td>\n",
       "      <td>17</td>\n",
       "      <td>68.584444</td>\n",
       "    </tr>\n",
       "    <tr>\n",
       "      <th>2</th>\n",
       "      <td>940</td>\n",
       "      <td>15</td>\n",
       "      <td>59.816078</td>\n",
       "    </tr>\n",
       "  </tbody>\n",
       "</table>\n",
       "</div>"
      ],
      "text/plain": [
       "                Clicks_all  Installs        Logloss\n",
       "priced     sex                                     \n",
       "CPC        0           131         2      10.664170\n",
       "           1         29147       268    1398.594988\n",
       "           2         51848       515    2633.750102\n",
       "CPI        0        116052      4454   15395.449546\n",
       "           1        142633      7427   23859.434629\n",
       "           2        112222      4893   15964.595294\n",
       "CPM        0          2585         8      57.482797\n",
       "           1         28915       154     874.866106\n",
       "           2         24305       154     772.391451\n",
       "oCPM       0        353222      5271   20322.678702\n",
       "           1       2007997    149989  436324.803001\n",
       "           2       2318563    148461  453714.337538\n",
       "oCPM_inapp 0          1406        19      76.187666\n",
       "           1           841        17      68.584444\n",
       "           2           940        15      59.816078"
      ]
     },
     "execution_count": 110,
     "metadata": {},
     "output_type": "execute_result"
    }
   ],
   "source": [
    "adequacy_prod"
   ]
  },
  {
   "cell_type": "markdown",
   "metadata": {},
   "source": [
    "# Расчет logloss для сравнения с logloss из логов нового hpr_online_stand'а"
   ]
  },
  {
   "cell_type": "code",
   "execution_count": 51,
   "metadata": {},
   "outputs": [],
   "source": [
    "logloss_cr = adequacy.copy()"
   ]
  },
  {
   "cell_type": "code",
   "execution_count": 53,
   "metadata": {},
   "outputs": [],
   "source": [
    "logloss_cr = logloss_cr.join(pd.get_dummies(logloss_cr['ev_type']))\n",
    "logloss_cr.rename(columns={0: 'Clicks', 1: 'Installs'}, inplace=True)"
   ]
  },
  {
   "cell_type": "code",
   "execution_count": 56,
   "metadata": {},
   "outputs": [],
   "source": [
    "logloss_cr['Logloss'] = -(logloss_cr['ev_type']*np.log(logloss_cr['pr']) + (1-logloss_cr['ev_type'])*np.log(1-logloss_cr['pr']))"
   ]
  },
  {
   "cell_type": "code",
   "execution_count": 57,
   "metadata": {},
   "outputs": [
    {
     "data": {
      "text/html": [
       "<div>\n",
       "<style scoped>\n",
       "    .dataframe tbody tr th:only-of-type {\n",
       "        vertical-align: middle;\n",
       "    }\n",
       "\n",
       "    .dataframe tbody tr th {\n",
       "        vertical-align: top;\n",
       "    }\n",
       "\n",
       "    .dataframe thead th {\n",
       "        text-align: right;\n",
       "    }\n",
       "</style>\n",
       "<table border=\"1\" class=\"dataframe\">\n",
       "  <thead>\n",
       "    <tr style=\"text-align: right;\">\n",
       "      <th></th>\n",
       "      <th>priced</th>\n",
       "      <th>sex</th>\n",
       "      <th>pr</th>\n",
       "      <th>ev_type</th>\n",
       "      <th>Clicks</th>\n",
       "      <th>Installs</th>\n",
       "      <th>Logloss</th>\n",
       "    </tr>\n",
       "  </thead>\n",
       "  <tbody>\n",
       "    <tr>\n",
       "      <th>0</th>\n",
       "      <td>oCPM</td>\n",
       "      <td>1.0</td>\n",
       "      <td>0.061474</td>\n",
       "      <td>0</td>\n",
       "      <td>1</td>\n",
       "      <td>0</td>\n",
       "      <td>0.063445</td>\n",
       "    </tr>\n",
       "    <tr>\n",
       "      <th>1</th>\n",
       "      <td>oCPM</td>\n",
       "      <td>0.0</td>\n",
       "      <td>0.251305</td>\n",
       "      <td>0</td>\n",
       "      <td>1</td>\n",
       "      <td>0</td>\n",
       "      <td>0.289424</td>\n",
       "    </tr>\n",
       "    <tr>\n",
       "      <th>2</th>\n",
       "      <td>oCPM</td>\n",
       "      <td>1.0</td>\n",
       "      <td>0.003210</td>\n",
       "      <td>0</td>\n",
       "      <td>1</td>\n",
       "      <td>0</td>\n",
       "      <td>0.003215</td>\n",
       "    </tr>\n",
       "    <tr>\n",
       "      <th>3</th>\n",
       "      <td>oCPM</td>\n",
       "      <td>1.0</td>\n",
       "      <td>0.055638</td>\n",
       "      <td>0</td>\n",
       "      <td>1</td>\n",
       "      <td>0</td>\n",
       "      <td>0.057246</td>\n",
       "    </tr>\n",
       "    <tr>\n",
       "      <th>4</th>\n",
       "      <td>oCPM</td>\n",
       "      <td>1.0</td>\n",
       "      <td>0.209112</td>\n",
       "      <td>0</td>\n",
       "      <td>1</td>\n",
       "      <td>0</td>\n",
       "      <td>0.234599</td>\n",
       "    </tr>\n",
       "  </tbody>\n",
       "</table>\n",
       "</div>"
      ],
      "text/plain": [
       "  priced  sex        pr  ev_type  Clicks  Installs   Logloss\n",
       "0   oCPM  1.0  0.061474        0       1         0  0.063445\n",
       "1   oCPM  0.0  0.251305        0       1         0  0.289424\n",
       "2   oCPM  1.0  0.003210        0       1         0  0.003215\n",
       "3   oCPM  1.0  0.055638        0       1         0  0.057246\n",
       "4   oCPM  1.0  0.209112        0       1         0  0.234599"
      ]
     },
     "execution_count": 57,
     "metadata": {},
     "output_type": "execute_result"
    }
   ],
   "source": [
    "logloss_cr.head()"
   ]
  },
  {
   "cell_type": "code",
   "execution_count": 245,
   "metadata": {},
   "outputs": [],
   "source": [
    "# Если надо посчитать logloss по отдельному срезу \n",
    "# logloss_cr = logloss_cr.query('priced == \"CPC\" and sex == 0.0 and range_right == \"(0.0050, 0.0100]\"')"
   ]
  },
  {
   "cell_type": "code",
   "execution_count": 58,
   "metadata": {},
   "outputs": [
    {
     "data": {
      "text/html": [
       "<div>\n",
       "<style scoped>\n",
       "    .dataframe tbody tr th:only-of-type {\n",
       "        vertical-align: middle;\n",
       "    }\n",
       "\n",
       "    .dataframe tbody tr th {\n",
       "        vertical-align: top;\n",
       "    }\n",
       "\n",
       "    .dataframe thead th {\n",
       "        text-align: right;\n",
       "    }\n",
       "</style>\n",
       "<table border=\"1\" class=\"dataframe\">\n",
       "  <thead>\n",
       "    <tr style=\"text-align: right;\">\n",
       "      <th></th>\n",
       "      <th>Clicks</th>\n",
       "      <th>Installs</th>\n",
       "      <th>pr</th>\n",
       "      <th>Logloss</th>\n",
       "    </tr>\n",
       "  </thead>\n",
       "  <tbody>\n",
       "    <tr>\n",
       "      <th>0</th>\n",
       "      <td>4869160.0</td>\n",
       "      <td>321647.0</td>\n",
       "      <td>321588.78799</td>\n",
       "      <td>971533.641584</td>\n",
       "    </tr>\n",
       "  </tbody>\n",
       "</table>\n",
       "</div>"
      ],
      "text/plain": [
       "      Clicks  Installs            pr        Logloss\n",
       "0  4869160.0  321647.0  321588.78799  971533.641584"
      ]
     },
     "execution_count": 58,
     "metadata": {},
     "output_type": "execute_result"
    }
   ],
   "source": [
    "data_cr = logloss_cr.agg({'Clicks': 'sum', 'Installs': 'sum', 'pr': 'sum', 'Logloss': 'sum'})\n",
    "data_cr = pd.DataFrame(data_cr).T\n",
    "data_cr"
   ]
  },
  {
   "cell_type": "code",
   "execution_count": 60,
   "metadata": {},
   "outputs": [
    {
     "data": {
      "text/plain": [
       "'Общее количество событий НЕ совпадает с количеством строк в валидационной выборке 5_190_807 на 18 строк (SKIP)'"
      ]
     },
     "execution_count": 60,
     "metadata": {},
     "output_type": "execute_result"
    }
   ],
   "source": [
    "'Общее количество событий НЕ совпадает с количеством строк в валидационной выборке {:_.0f} на 18 строк (SKIP)'\\\n",
    ".format(data_cr[['Clicks', 'Installs']].T.sum()[0])"
   ]
  },
  {
   "cell_type": "markdown",
   "metadata": {},
   "source": [
    "## Расчет"
   ]
  },
  {
   "cell_type": "code",
   "execution_count": 49,
   "metadata": {},
   "outputs": [],
   "source": [
    "def prepare_rate(rate, division):\n",
    "    rate_copy = rate.copy() / division\n",
    "    rate_copy[rate_copy >= 1] = np.nan\n",
    "    rate_copy[rate_copy <= 0] = np.nan\n",
    "    return rate_copy"
   ]
  },
  {
   "cell_type": "code",
   "execution_count": 50,
   "metadata": {},
   "outputs": [],
   "source": [
    "def entropy(pr):\n",
    "    return -(1.0 - pr) * np.log(1.0 - pr) - pr * np.log(pr)"
   ]
  },
  {
   "cell_type": "code",
   "execution_count": 61,
   "metadata": {},
   "outputs": [
    {
     "data": {
      "text/html": [
       "<div>\n",
       "<style scoped>\n",
       "    .dataframe tbody tr th:only-of-type {\n",
       "        vertical-align: middle;\n",
       "    }\n",
       "\n",
       "    .dataframe tbody tr th {\n",
       "        vertical-align: top;\n",
       "    }\n",
       "\n",
       "    .dataframe thead th {\n",
       "        text-align: right;\n",
       "    }\n",
       "</style>\n",
       "<table border=\"1\" class=\"dataframe\">\n",
       "  <thead>\n",
       "    <tr style=\"text-align: right;\">\n",
       "      <th></th>\n",
       "      <th>Clicks</th>\n",
       "      <th>Installs</th>\n",
       "      <th>pr</th>\n",
       "      <th>Logloss</th>\n",
       "      <th>CR</th>\n",
       "    </tr>\n",
       "  </thead>\n",
       "  <tbody>\n",
       "    <tr>\n",
       "      <th>0</th>\n",
       "      <td>4869160.0</td>\n",
       "      <td>321647.0</td>\n",
       "      <td>321588.78799</td>\n",
       "      <td>971533.641584</td>\n",
       "      <td>0.061965</td>\n",
       "    </tr>\n",
       "  </tbody>\n",
       "</table>\n",
       "</div>"
      ],
      "text/plain": [
       "      Clicks  Installs            pr        Logloss        CR\n",
       "0  4869160.0  321647.0  321588.78799  971533.641584  0.061965"
      ]
     },
     "execution_count": 61,
     "metadata": {},
     "output_type": "execute_result"
    }
   ],
   "source": [
    "data_cr['CR'] = data_cr['Installs'] * 100 / (data_cr['Clicks'] + data_cr['Installs']) \n",
    "data_cr['CR'] = prepare_rate(data_cr['CR'], 100) \n",
    "data_cr"
   ]
  },
  {
   "cell_type": "code",
   "execution_count": 62,
   "metadata": {},
   "outputs": [
    {
     "data": {
      "text/html": [
       "<div>\n",
       "<style scoped>\n",
       "    .dataframe tbody tr th:only-of-type {\n",
       "        vertical-align: middle;\n",
       "    }\n",
       "\n",
       "    .dataframe tbody tr th {\n",
       "        vertical-align: top;\n",
       "    }\n",
       "\n",
       "    .dataframe thead th {\n",
       "        text-align: right;\n",
       "    }\n",
       "</style>\n",
       "<table border=\"1\" class=\"dataframe\">\n",
       "  <thead>\n",
       "    <tr style=\"text-align: right;\">\n",
       "      <th></th>\n",
       "      <th>Clicks</th>\n",
       "      <th>Installs</th>\n",
       "      <th>pr</th>\n",
       "      <th>Logloss</th>\n",
       "      <th>CR</th>\n",
       "      <th>Logloss_cum</th>\n",
       "    </tr>\n",
       "  </thead>\n",
       "  <tbody>\n",
       "    <tr>\n",
       "      <th>0</th>\n",
       "      <td>4869160.0</td>\n",
       "      <td>321647.0</td>\n",
       "      <td>321588.78799</td>\n",
       "      <td>971533.641584</td>\n",
       "      <td>0.061965</td>\n",
       "      <td>0.805563</td>\n",
       "    </tr>\n",
       "  </tbody>\n",
       "</table>\n",
       "</div>"
      ],
      "text/plain": [
       "      Clicks  Installs            pr        Logloss        CR  Logloss_cum\n",
       "0  4869160.0  321647.0  321588.78799  971533.641584  0.061965     0.805563"
      ]
     },
     "execution_count": 62,
     "metadata": {},
     "output_type": "execute_result"
    }
   ],
   "source": [
    "data_cr['Logloss_cum'] = data_cr['Logloss']/(entropy(data_cr['CR'])[0] * (data_cr['Clicks'][0] + data_cr['Installs'][0]))\n",
    "data_cr"
   ]
  },
  {
   "cell_type": "code",
   "execution_count": 65,
   "metadata": {},
   "outputs": [
    {
     "name": "stdout",
     "output_type": "stream",
     "text": [
      "prod\tvalid\tauc = 0.82985\n",
      "prod-new\tvalid\tauc = 0.74095\n",
      "prod\tvalid\tlogloss = 0.80556\n",
      "prod-new\tvalid\tlogloss = 1.3639\n",
      "\n",
      "14.07 10:01:06.877 [notice] *516736: main: exited\n"
     ]
    }
   ],
   "source": [
    "# Метрики из лога нового стенда\n",
    "!tail -n6 ~/TRG-78708/new_hpr_online_stand_info/installs/logs/hpr_stand.log"
   ]
  },
  {
   "cell_type": "markdown",
   "metadata": {},
   "source": [
    "# Расчет logloss'а в целом по выборке (без деления на срезы)"
   ]
  }
 ],
 "metadata": {
  "kernelspec": {
   "display_name": "Python 3",
   "language": "python",
   "name": "python3"
  },
  "language_info": {
   "codemirror_mode": {
    "name": "ipython",
    "version": 3
   },
   "file_extension": ".py",
   "mimetype": "text/x-python",
   "name": "python",
   "nbconvert_exporter": "python",
   "pygments_lexer": "ipython3",
   "version": "3.7.8"
  }
 },
 "nbformat": 4,
 "nbformat_minor": 4
}
